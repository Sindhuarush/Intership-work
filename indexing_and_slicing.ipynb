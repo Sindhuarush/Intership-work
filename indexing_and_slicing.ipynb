{
  "nbformat": 4,
  "nbformat_minor": 0,
  "metadata": {
    "colab": {
      "name": "indexing and slicing.ipynb",
      "version": "0.3.2",
      "provenance": [],
      "include_colab_link": true
    },
    "kernelspec": {
      "name": "python3",
      "display_name": "Python 3"
    }
  },
  "cells": [
    {
      "cell_type": "markdown",
      "metadata": {
        "id": "view-in-github",
        "colab_type": "text"
      },
      "source": [
        "<a href=\"https://colab.research.google.com/github/Sindhuarush/Intership-work/blob/master/indexing_and_slicing.ipynb\" target=\"_parent\"><img src=\"https://colab.research.google.com/assets/colab-badge.svg\" alt=\"Open In Colab\"/></a>"
      ]
    },
    {
      "cell_type": "code",
      "metadata": {
        "id": "ACdbyB2S0WQg",
        "colab_type": "code",
        "colab": {
          "base_uri": "https://localhost:8080/",
          "height": 34
        },
        "outputId": "47eac920-3b24-4aff-cf3f-d97c1985a115"
      },
      "source": [
        "import numpy as np\n",
        "a = np.arange(10)**3\n",
        "a"
      ],
      "execution_count": 9,
      "outputs": [
        {
          "output_type": "execute_result",
          "data": {
            "text/plain": [
              "array([  0,   1,   8,  27,  64, 125, 216, 343, 512, 729])"
            ]
          },
          "metadata": {
            "tags": []
          },
          "execution_count": 9
        }
      ]
    },
    {
      "cell_type": "code",
      "metadata": {
        "id": "U12QakDf98uW",
        "colab_type": "code",
        "colab": {
          "base_uri": "https://localhost:8080/",
          "height": 34
        },
        "outputId": "a8de7f54-7e02-4d40-876e-247cd7572cef"
      },
      "source": [
        "a[2]"
      ],
      "execution_count": 10,
      "outputs": [
        {
          "output_type": "execute_result",
          "data": {
            "text/plain": [
              "8"
            ]
          },
          "metadata": {
            "tags": []
          },
          "execution_count": 10
        }
      ]
    },
    {
      "cell_type": "code",
      "metadata": {
        "id": "1vm34VuW-F4n",
        "colab_type": "code",
        "colab": {
          "base_uri": "https://localhost:8080/",
          "height": 34
        },
        "outputId": "56baf06f-eb08-495b-fe71-5cf62b69ceec"
      },
      "source": [
        "a[2:5]"
      ],
      "execution_count": 11,
      "outputs": [
        {
          "output_type": "execute_result",
          "data": {
            "text/plain": [
              "array([ 8, 27, 64])"
            ]
          },
          "metadata": {
            "tags": []
          },
          "execution_count": 11
        }
      ]
    },
    {
      "cell_type": "code",
      "metadata": {
        "id": "CKasONRR-Q5z",
        "colab_type": "code",
        "colab": {
          "base_uri": "https://localhost:8080/",
          "height": 51
        },
        "outputId": "46ddb8a7-dbaf-4b2c-c424-1f0d040fbb7b"
      },
      "source": [
        "a[:6:2] = -1000\n",
        "a"
      ],
      "execution_count": 12,
      "outputs": [
        {
          "output_type": "execute_result",
          "data": {
            "text/plain": [
              "array([-1000,     1, -1000,    27, -1000,   125,   216,   343,   512,\n",
              "         729])"
            ]
          },
          "metadata": {
            "tags": []
          },
          "execution_count": 12
        }
      ]
    },
    {
      "cell_type": "code",
      "metadata": {
        "id": "WVh7zgSA-W64",
        "colab_type": "code",
        "colab": {
          "base_uri": "https://localhost:8080/",
          "height": 51
        },
        "outputId": "89eedbee-81f4-4f8c-f6f6-f44b2e873904"
      },
      "source": [
        " a[ : :-1] "
      ],
      "execution_count": 13,
      "outputs": [
        {
          "output_type": "execute_result",
          "data": {
            "text/plain": [
              "array([  729,   512,   343,   216,   125, -1000,    27, -1000,     1,\n",
              "       -1000])"
            ]
          },
          "metadata": {
            "tags": []
          },
          "execution_count": 13
        }
      ]
    },
    {
      "cell_type": "code",
      "metadata": {
        "id": "gTp47AGl-jAl",
        "colab_type": "code",
        "colab": {
          "base_uri": "https://localhost:8080/",
          "height": 221
        },
        "outputId": "21aae0e9-ad38-40b4-c8d9-25e7b170d2f7"
      },
      "source": [
        "for i in a:\n",
        "...     print(i**(1/3.))\n",
        "..."
      ],
      "execution_count": 14,
      "outputs": [
        {
          "output_type": "stream",
          "text": [
            "nan\n",
            "1.0\n",
            "nan\n",
            "3.0\n",
            "nan\n",
            "4.999999999999999\n",
            "5.999999999999999\n",
            "6.999999999999999\n",
            "7.999999999999999\n",
            "8.999999999999998\n"
          ],
          "name": "stdout"
        },
        {
          "output_type": "stream",
          "text": [
            "/usr/local/lib/python3.6/dist-packages/ipykernel_launcher.py:2: RuntimeWarning: invalid value encountered in power\n",
            "  \n"
          ],
          "name": "stderr"
        }
      ]
    },
    {
      "cell_type": "code",
      "metadata": {
        "id": "RgZ4aEvB-q75",
        "colab_type": "code",
        "colab": {
          "base_uri": "https://localhost:8080/",
          "height": 34
        },
        "outputId": "2ab79919-9bb6-486c-b68f-47174a192edc"
      },
      "source": [
        " B = np.arange(2)\n",
        " B"
      ],
      "execution_count": 28,
      "outputs": [
        {
          "output_type": "execute_result",
          "data": {
            "text/plain": [
              "array([0, 1])"
            ]
          },
          "metadata": {
            "tags": []
          },
          "execution_count": 28
        }
      ]
    },
    {
      "cell_type": "code",
      "metadata": {
        "id": "OvWtx6f4-u4T",
        "colab_type": "code",
        "colab": {
          "base_uri": "https://localhost:8080/",
          "height": 34
        },
        "outputId": "01b75b60-94fb-4dc0-ba0a-d9f993a492e6"
      },
      "source": [
        "np.exp(B)"
      ],
      "execution_count": 29,
      "outputs": [
        {
          "output_type": "execute_result",
          "data": {
            "text/plain": [
              "array([1.        , 2.71828183])"
            ]
          },
          "metadata": {
            "tags": []
          },
          "execution_count": 29
        }
      ]
    },
    {
      "cell_type": "code",
      "metadata": {
        "id": "zEPq6DvC-ziR",
        "colab_type": "code",
        "colab": {
          "base_uri": "https://localhost:8080/",
          "height": 34
        },
        "outputId": "a9136363-04e5-4a1d-f50b-e8121dfb512c"
      },
      "source": [
        "np.sqrt(B)"
      ],
      "execution_count": 30,
      "outputs": [
        {
          "output_type": "execute_result",
          "data": {
            "text/plain": [
              "array([0., 1.])"
            ]
          },
          "metadata": {
            "tags": []
          },
          "execution_count": 30
        }
      ]
    },
    {
      "cell_type": "code",
      "metadata": {
        "id": "q2puIJ2t-4gl",
        "colab_type": "code",
        "colab": {
          "base_uri": "https://localhost:8080/",
          "height": 34
        },
        "outputId": "2c22b5a2-2c1e-48f8-eb68-e42329628e70"
      },
      "source": [
        " C = np.array([8, 4])\n",
        ">>> np.add(B, C)"
      ],
      "execution_count": 31,
      "outputs": [
        {
          "output_type": "execute_result",
          "data": {
            "text/plain": [
              "array([8, 5])"
            ]
          },
          "metadata": {
            "tags": []
          },
          "execution_count": 31
        }
      ]
    },
    {
      "cell_type": "code",
      "metadata": {
        "id": "Q2FYbMQwG52b",
        "colab_type": "code",
        "colab": {
          "base_uri": "https://localhost:8080/",
          "height": 136
        },
        "outputId": "e2371393-af4e-4e7f-cdc3-801d3af50f3b"
      },
      "source": [
        "a = np.array([[(1,2,3)], [(4,5,6)],[(7,8,9)],[(5,6,7)]])\n",
        "a"
      ],
      "execution_count": 59,
      "outputs": [
        {
          "output_type": "execute_result",
          "data": {
            "text/plain": [
              "array([[[1, 2, 3]],\n",
              "\n",
              "       [[4, 5, 6]],\n",
              "\n",
              "       [[7, 8, 9]],\n",
              "\n",
              "       [[5, 6, 7]]])"
            ]
          },
          "metadata": {
            "tags": []
          },
          "execution_count": 59
        }
      ]
    },
    {
      "cell_type": "code",
      "metadata": {
        "id": "RPFqu3piEdiB",
        "colab_type": "code",
        "colab": {
          "base_uri": "https://localhost:8080/",
          "height": 34
        },
        "outputId": "e5c84c77-547d-465b-c9f0-434369d93025"
      },
      "source": [
        "a.ndim"
      ],
      "execution_count": 46,
      "outputs": [
        {
          "output_type": "execute_result",
          "data": {
            "text/plain": [
              "3"
            ]
          },
          "metadata": {
            "tags": []
          },
          "execution_count": 46
        }
      ]
    },
    {
      "cell_type": "code",
      "metadata": {
        "id": "MN-4v-ATHRTm",
        "colab_type": "code",
        "colab": {
          "base_uri": "https://localhost:8080/",
          "height": 68
        },
        "outputId": "f024d4fa-25bb-42a9-958c-6ea21e395fff"
      },
      "source": [
        "a[0:3:2]"
      ],
      "execution_count": 64,
      "outputs": [
        {
          "output_type": "execute_result",
          "data": {
            "text/plain": [
              "array([[[1, 2, 3]],\n",
              "\n",
              "       [[7, 8, 9]]])"
            ]
          },
          "metadata": {
            "tags": []
          },
          "execution_count": 64
        }
      ]
    },
    {
      "cell_type": "code",
      "metadata": {
        "id": "RXjpUCVbR_4k",
        "colab_type": "code",
        "colab": {
          "base_uri": "https://localhost:8080/",
          "height": 272
        },
        "outputId": "a19a6fc1-1756-4e0c-e3d4-fca63619bac0"
      },
      "source": [
        "a = np.array([[(1,2,3),(1,1,1),(2,2,2)], [(4,5,6),(2,2,2),(3,3,3)],[(7,8,9),(1,1,1),(2,2,2)],[(5,6,7),(2,2,2),(3,3,3)]])\n",
        "a"
      ],
      "execution_count": 65,
      "outputs": [
        {
          "output_type": "execute_result",
          "data": {
            "text/plain": [
              "array([[[1, 2, 3],\n",
              "        [1, 1, 1],\n",
              "        [2, 2, 2]],\n",
              "\n",
              "       [[4, 5, 6],\n",
              "        [2, 2, 2],\n",
              "        [3, 3, 3]],\n",
              "\n",
              "       [[7, 8, 9],\n",
              "        [1, 1, 1],\n",
              "        [2, 2, 2]],\n",
              "\n",
              "       [[5, 6, 7],\n",
              "        [2, 2, 2],\n",
              "        [3, 3, 3]]])"
            ]
          },
          "metadata": {
            "tags": []
          },
          "execution_count": 65
        }
      ]
    },
    {
      "cell_type": "code",
      "metadata": {
        "id": "7vAErnTSSfK1",
        "colab_type": "code",
        "colab": {
          "base_uri": "https://localhost:8080/",
          "height": 51
        },
        "outputId": "479816ed-d75f-435f-c2bd-a47eba57f193"
      },
      "source": [
        "a[2,1:3]"
      ],
      "execution_count": 72,
      "outputs": [
        {
          "output_type": "execute_result",
          "data": {
            "text/plain": [
              "array([[1, 1, 1],\n",
              "       [2, 2, 2]])"
            ]
          },
          "metadata": {
            "tags": []
          },
          "execution_count": 72
        }
      ]
    },
    {
      "cell_type": "code",
      "metadata": {
        "id": "EoYxeDhFTOkB",
        "colab_type": "code",
        "colab": {}
      },
      "source": [
        " simple_array = np.array([2.3, 0.1, -9.1])"
      ],
      "execution_count": 0,
      "outputs": []
    }
  ]
}